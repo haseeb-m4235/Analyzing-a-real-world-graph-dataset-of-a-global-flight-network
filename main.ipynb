{
 "cells": [
  {
   "cell_type": "code",
   "execution_count": 20,
   "metadata": {},
   "outputs": [],
   "source": [
    "import csv\n",
    "import plotly.graph_objects as go"
   ]
  },
  {
   "cell_type": "code",
   "execution_count": 21,
   "metadata": {},
   "outputs": [],
   "source": [
    "# File paths (adjust as needed)\n",
    "routes_file = \"routes.dat\"\n",
    "airports_file = \"airports.dat\"\n",
    "\n",
    "# Data structures\n",
    "nodes = {}\n",
    "edges = []\n"
   ]
  },
  {
   "cell_type": "code",
   "execution_count": 22,
   "metadata": {},
   "outputs": [],
   "source": [
    "\n",
    "# Step 1: Read airports.dat and create nodes\n",
    "with open(airports_file, \"r\", encoding=\"utf-8\") as f:\n",
    "    reader = csv.reader(f)\n",
    "    for row in reader:\n",
    "        # Assuming the column order matches the format\n",
    "        airport_id = row[0]\n",
    "        airport_name = row[1]\n",
    "        city = row[2]\n",
    "        country = row[3]\n",
    "        latitude = float(row[6])\n",
    "        longitude = float(row[7])\n",
    "        \n",
    "        # Add the airport node to the dictionary\n",
    "        nodes[airport_id] = {\n",
    "            \"name\": airport_name,\n",
    "            \"city\": city,\n",
    "            \"country\": country,\n",
    "            \"latitude\": latitude,\n",
    "            \"longitude\": longitude\n",
    "        }"
   ]
  },
  {
   "cell_type": "code",
   "execution_count": 23,
   "metadata": {},
   "outputs": [],
   "source": [
    "# Step 2: Read routes.dat and create edges\n",
    "with open(routes_file, \"r\", encoding=\"utf-8\") as f:\n",
    "    reader = csv.reader(f)\n",
    "    for row in reader:\n",
    "        # Assuming the column order matches the format\n",
    "        airline = row[0]\n",
    "        source_id = row[3]\n",
    "        destination_id = row[5]\n",
    "        \n",
    "        # Skip edges where source or destination airport IDs are missing\n",
    "        if source_id in nodes and destination_id in nodes:\n",
    "            edges.append({\n",
    "                \"airline\": airline,\n",
    "                \"source\": nodes[source_id],\n",
    "                \"destination\": nodes[destination_id]\n",
    "            })"
   ]
  },
  {
   "cell_type": "code",
   "execution_count": 24,
   "metadata": {},
   "outputs": [
    {
     "name": "stdout",
     "output_type": "stream",
     "text": [
      "Nodes (Airports):\n",
      "1: {'name': 'Goroka Airport', 'city': 'Goroka', 'country': 'Papua New Guinea', 'latitude': -6.081689834590001, 'longitude': 145.391998291}\n",
      "\n",
      "Edges (Routes):\n",
      "{'airline': '2B', 'source': {'name': 'Sochi International Airport', 'city': 'Sochi', 'country': 'Russia', 'latitude': 43.449902, 'longitude': 39.9566}, 'destination': {'name': 'Kazan International Airport', 'city': 'Kazan', 'country': 'Russia', 'latitude': 55.606201171875, 'longitude': 49.278701782227}}\n"
     ]
    }
   ],
   "source": [
    "# Output the results\n",
    "print(\"Nodes (Airports):\")\n",
    "for airport_id, attributes in nodes.items():\n",
    "    print(f\"{airport_id}: {attributes}\")\n",
    "    break\n",
    "\n",
    "print(\"\\nEdges (Routes):\")\n",
    "for edge in edges:\n",
    "    print(edge)\n",
    "    break"
   ]
  },
  {
   "cell_type": "code",
   "execution_count": null,
   "metadata": {},
   "outputs": [],
   "source": [
    "# Step 3: Prepare data for Plotly\n",
    "# Scatter points for airports\n",
    "airport_latitudes = [node[\"latitude\"] for node in nodes.values()]\n",
    "airport_longitudes = [node[\"longitude\"] for node in nodes.values()]\n",
    "airport_names = [f\"{node['name']} ({node['city']}, {node['country']})\" for node in nodes.values()]\n",
    "\n",
    "# Lines for routes\n",
    "flight_paths = []\n",
    "for edge in edges:\n",
    "    flight_paths.append(\n",
    "        go.Scattergeo(\n",
    "            locationmode=\"ISO-3\",\n",
    "            lon=[edge[\"source\"][\"longitude\"], edge[\"destination\"][\"longitude\"]],\n",
    "            lat=[edge[\"source\"][\"latitude\"], edge[\"destination\"][\"latitude\"]],\n",
    "            mode=\"lines\",\n",
    "            line=dict(width=0.5, color=\"blue\"),\n",
    "            hoverinfo=\"none\"\n",
    "        )\n",
    "    )\n",
    "\n",
    "# Step 4: Create the Plotly Figure\n",
    "fig = go.Figure()\n",
    "\n",
    "# Add airport nodes\n",
    "fig.add_trace(\n",
    "    go.Scattergeo(\n",
    "        lon=airport_longitudes,\n",
    "        lat=airport_latitudes,\n",
    "        mode=\"markers\",\n",
    "        marker=dict(\n",
    "            size=5,\n",
    "            color=\"red\",\n",
    "            symbol=\"circle\"\n",
    "        ),\n",
    "        text=airport_names,  # Tooltip text\n",
    "        hoverinfo=\"text\"\n",
    "    )\n",
    ")\n",
    "\n",
    "# Add route edges\n",
    "for flight_path in flight_paths:\n",
    "    fig.add_trace(flight_path)\n",
    "\n",
    "# Layout configuration\n",
    "fig.update_layout(\n",
    "    title_text=\"Airports and Direct Routes\",\n",
    "    showlegend=False,\n",
    "    geo=dict(\n",
    "        projection_type=\"equirectangular\",\n",
    "        showland=True,\n",
    "        landcolor=\"rgb(243, 243, 243)\",\n",
    "        countrycolor=\"rgb(204, 204, 204)\"\n",
    "    )\n",
    ")\n",
    "\n",
    "# Show the plot\n",
    "fig.show()"
   ]
  },
  {
   "cell_type": "code",
   "execution_count": 30,
   "metadata": {},
   "outputs": [
    {
     "name": "stdout",
     "output_type": "stream",
     "text": [
      "Airport: Amsterdam Airport Schiphol, Degree] Centrality: 0.022756469076894843\n",
      "Airport: Frankfurt am Main Airport, Degree] Centrality: 0.022389429253073957\n",
      "Airport: Charles de Gaulle International Airport, Degree] Centrality: 0.022022389429253074\n",
      "Airport: Atatürk International Airport, Degree] Centrality: 0.021380069737566527\n",
      "Airport: Hartsfield Jackson Atlanta International Airport, Degree] Centrality: 0.019911910442282986\n",
      "Airport: Chicago O'Hare International Airport, Degree] Centrality: 0.018902550926775553\n",
      "Airport: Beijing Capital International Airport, Degree] Centrality: 0.018810790970820335\n",
      "Airport: Munich Airport, Degree] Centrality: 0.01761791154340246\n",
      "Airport: Domodedovo International Airport, Degree] Centrality: 0.017250871719581572\n",
      "Airport: Dallas Fort Worth International Airport, Degree] Centrality: 0.017250871719581572\n"
     ]
    }
   ],
   "source": [
    "import networkx as nx\n",
    "\n",
    "# Create an empty graph\n",
    "G = nx.Graph()\n",
    "\n",
    "# Add nodes (airports) to the graph\n",
    "for airport_id, attributes in nodes.items():\n",
    "    G.add_node(airport_id, **attributes)\n",
    "\n",
    "# Add edges (routes) to the graph\n",
    "for edge in edges:\n",
    "    source = edge['source']['name']\n",
    "    destination = edge['destination']['name']\n",
    "    G.add_edge(source, destination, airline=edge['airline'])\n",
    "\n",
    "# Compute degree centrality\n",
    "degree_centrality = nx.degree_centrality(G)\n",
    "\n",
    "# Sort by degree centrality\n",
    "sorted_degree = sorted(degree_centrality.items(), key=lambda x: x[1], reverse=True)\n",
    "\n",
    "# Print top 10 hubs\n",
    "for airport_name, centrality in sorted_degree[:10]:\n",
    "    print(f\"Airport: {airport_name}, Degree] Centrality: {centrality}\")"
   ]
  },
  {
   "cell_type": "code",
   "execution_count": 31,
   "metadata": {},
   "outputs": [
    {
     "name": "stdout",
     "output_type": "stream",
     "text": [
      "Airport: Charles de Gaulle International Airport, Betweenness Centrality: 0.005420207740343245\n",
      "Airport: Los Angeles International Airport, Betweenness Centrality: 0.005135671671109709\n",
      "Airport: Ted Stevens Anchorage International Airport, Betweenness Centrality: 0.005125209788449216\n",
      "Airport: Dubai International Airport, Betweenness Centrality: 0.004628412516093334\n",
      "Airport: Frankfurt am Main Airport, Betweenness Centrality: 0.004504988422254272\n",
      "Airport: Amsterdam Airport Schiphol, Betweenness Centrality: 0.004374268350642617\n",
      "Airport: Beijing Capital International Airport, Betweenness Centrality: 0.0042865324730917585\n",
      "Airport: Chicago O'Hare International Airport, Betweenness Centrality: 0.0040040633219087865\n",
      "Airport: Lester B. Pearson International Airport, Betweenness Centrality: 0.0038891168400845863\n",
      "Airport: Atatürk International Airport, Betweenness Centrality: 0.0036674263096069092\n"
     ]
    }
   ],
   "source": [
    "# Compute betweenness centrality\n",
    "betweenness_centrality = nx.betweenness_centrality(G)\n",
    "\n",
    "# Sort by betweenness centrality\n",
    "sorted_betweenness = sorted(betweenness_centrality.items(), key=lambda x: x[1], reverse=True)\n",
    "\n",
    "# Print top 10 airports by betweenness centrality\n",
    "for airport_name, centrality in sorted_betweenness[:10]:\n",
    "    print(f\"Airport: {airport_name}, Betweenness Centrality: {centrality}\")"
   ]
  },
  {
   "cell_type": "code",
   "execution_count": 32,
   "metadata": {},
   "outputs": [
    {
     "name": "stdout",
     "output_type": "stream",
     "text": [
      "Airport: Amsterdam Airport Schiphol, Eigenvector Centrality: 0.16787862313775015\n",
      "Airport: Frankfurt am Main Airport, Eigenvector Centrality: 0.16639360556512212\n",
      "Airport: Charles de Gaulle International Airport, Eigenvector Centrality: 0.15946867299421438\n",
      "Airport: Munich Airport, Eigenvector Centrality: 0.14850125294474087\n",
      "Airport: Leonardo da Vinci–Fiumicino Airport, Eigenvector Centrality: 0.13632593305180626\n",
      "Airport: London Heathrow Airport, Eigenvector Centrality: 0.13597213697411975\n",
      "Airport: Atatürk International Airport, Eigenvector Centrality: 0.12912841296227298\n",
      "Airport: Barcelona International Airport, Eigenvector Centrality: 0.12809384878220356\n",
      "Airport: Zürich Airport, Eigenvector Centrality: 0.12599349543893415\n",
      "Airport: Adolfo Suárez Madrid–Barajas Airport, Eigenvector Centrality: 0.12296163375221078\n"
     ]
    }
   ],
   "source": [
    "# Compute eigenvector centrality\n",
    "eigenvector_centrality = nx.eigenvector_centrality(G)\n",
    "\n",
    "# Sort by eigenvector centrality\n",
    "sorted_eigenvector = sorted(eigenvector_centrality.items(), key=lambda x: x[1], reverse=True)\n",
    "\n",
    "# Print top 10 airports by eigenvector centrality\n",
    "for airport_name, centrality in sorted_eigenvector[:10]:\n",
    "    print(f\"Airport: {airport_name}, Eigenvector Centrality: {centrality}\")"
   ]
  }
 ],
 "metadata": {
  "kernelspec": {
   "display_name": "AI3",
   "language": "python",
   "name": "python3"
  },
  "language_info": {
   "codemirror_mode": {
    "name": "ipython",
    "version": 3
   },
   "file_extension": ".py",
   "mimetype": "text/x-python",
   "name": "python",
   "nbconvert_exporter": "python",
   "pygments_lexer": "ipython3",
   "version": "3.6.13"
  }
 },
 "nbformat": 4,
 "nbformat_minor": 2
}
