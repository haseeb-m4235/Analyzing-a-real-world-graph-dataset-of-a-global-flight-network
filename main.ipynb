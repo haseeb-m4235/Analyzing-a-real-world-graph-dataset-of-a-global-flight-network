{
 "cells": [
  {
   "cell_type": "code",
   "execution_count": 1,
   "metadata": {},
   "outputs": [],
   "source": [
    "import csv\n",
    "import plotly.graph_objects as go"
   ]
  },
  {
   "cell_type": "code",
   "execution_count": 2,
   "metadata": {},
   "outputs": [],
   "source": [
    "# File paths (adjust as needed)\n",
    "routes_file = \"routes.dat\"\n",
    "airports_file = \"airports.dat\"\n",
    "\n",
    "# Data structures\n",
    "nodes = {}\n",
    "edges = []"
   ]
  },
  {
   "cell_type": "code",
   "execution_count": 3,
   "metadata": {},
   "outputs": [],
   "source": [
    "# Step 1: Read airports.dat and create nodes\n",
    "with open(airports_file, \"r\", encoding=\"utf-8\") as f:\n",
    "    reader = csv.reader(f)\n",
    "    for row in reader:\n",
    "        # Assuming the column order matches the format\n",
    "        airport_id = row[0]\n",
    "        airport_name = row[1]\n",
    "        city = row[2]\n",
    "        country = row[3]\n",
    "        latitude = float(row[6])\n",
    "        longitude = float(row[7])\n",
    "        \n",
    "        # Add the airport node to the dictionary\n",
    "        nodes[airport_id] = {\n",
    "            \"name\": airport_name,\n",
    "            \"city\": city,\n",
    "            \"country\": country,\n",
    "            \"latitude\": latitude,\n",
    "            \"longitude\": longitude\n",
    "        }"
   ]
  },
  {
   "cell_type": "code",
   "execution_count": 4,
   "metadata": {},
   "outputs": [],
   "source": [
    "# Step 2: Read routes.dat and create edges\n",
    "with open(routes_file, \"r\", encoding=\"utf-8\") as f:\n",
    "    reader = csv.reader(f)\n",
    "    for row in reader:\n",
    "        # Assuming the column order matches the format\n",
    "        airline = row[0]\n",
    "        source_id = row[3]\n",
    "        destination_id = row[5]\n",
    "        \n",
    "        # Skip edges where source or destination airport IDs are missing\n",
    "        if source_id in nodes and destination_id in nodes:\n",
    "            edges.append({\n",
    "                \"airline\": airline,\n",
    "                \"source\": nodes[source_id],\n",
    "                \"destination\": nodes[destination_id]\n",
    "            })"
   ]
  },
  {
   "cell_type": "code",
   "execution_count": 5,
   "metadata": {},
   "outputs": [
    {
     "name": "stdout",
     "output_type": "stream",
     "text": [
      "Nodes (Airports):\n",
      "1: {'name': 'Goroka Airport', 'city': 'Goroka', 'country': 'Papua New Guinea', 'latitude': -6.081689834590001, 'longitude': 145.391998291}\n",
      "\n",
      "Edges (Routes):\n",
      "{'airline': '2B', 'source': {'name': 'Sochi International Airport', 'city': 'Sochi', 'country': 'Russia', 'latitude': 43.449902, 'longitude': 39.9566}, 'destination': {'name': 'Kazan International Airport', 'city': 'Kazan', 'country': 'Russia', 'latitude': 55.606201171875, 'longitude': 49.278701782227}}\n"
     ]
    }
   ],
   "source": [
    "# Output the results\n",
    "print(\"Nodes (Airports):\")\n",
    "for airport_id, attributes in nodes.items():\n",
    "    print(f\"{airport_id}: {attributes}\")\n",
    "    break\n",
    "\n",
    "print(\"\\nEdges (Routes):\")\n",
    "for edge in edges:\n",
    "    print(edge)\n",
    "    break"
   ]
  },
  {
   "cell_type": "code",
   "execution_count": 6,
   "metadata": {},
   "outputs": [
    {
     "ename": "KeyboardInterrupt",
     "evalue": "",
     "output_type": "error",
     "traceback": [
      "\u001b[1;31m---------------------------------------------------------------------------\u001b[0m",
      "\u001b[1;31mKeyboardInterrupt\u001b[0m                         Traceback (most recent call last)",
      "\u001b[1;32m<ipython-input-6-6202e43befe9>\u001b[0m in \u001b[0;36m<module>\u001b[1;34m\u001b[0m\n\u001b[0;32m     40\u001b[0m \u001b[1;31m# Add route edges\u001b[0m\u001b[1;33m\u001b[0m\u001b[1;33m\u001b[0m\u001b[1;33m\u001b[0m\u001b[0m\n\u001b[0;32m     41\u001b[0m \u001b[1;32mfor\u001b[0m \u001b[0mflight_path\u001b[0m \u001b[1;32min\u001b[0m \u001b[0mflight_paths\u001b[0m\u001b[1;33m:\u001b[0m\u001b[1;33m\u001b[0m\u001b[1;33m\u001b[0m\u001b[0m\n\u001b[1;32m---> 42\u001b[1;33m     \u001b[0mfig\u001b[0m\u001b[1;33m.\u001b[0m\u001b[0madd_trace\u001b[0m\u001b[1;33m(\u001b[0m\u001b[0mflight_path\u001b[0m\u001b[1;33m)\u001b[0m\u001b[1;33m\u001b[0m\u001b[1;33m\u001b[0m\u001b[0m\n\u001b[0m\u001b[0;32m     43\u001b[0m \u001b[1;33m\u001b[0m\u001b[0m\n\u001b[0;32m     44\u001b[0m \u001b[1;31m# Layout configuration\u001b[0m\u001b[1;33m\u001b[0m\u001b[1;33m\u001b[0m\u001b[1;33m\u001b[0m\u001b[0m\n",
      "\u001b[1;32mc:\\Users\\hasee\\miniconda3\\envs\\AI3\\lib\\site-packages\\plotly\\graph_objs\\_figure.py\u001b[0m in \u001b[0;36madd_trace\u001b[1;34m(self, trace, row, col, secondary_y, exclude_empty_subplots)\u001b[0m\n\u001b[0;32m    899\u001b[0m         \"\"\"\n\u001b[0;32m    900\u001b[0m         return super(Figure, self).add_trace(\n\u001b[1;32m--> 901\u001b[1;33m             \u001b[0mtrace\u001b[0m\u001b[1;33m,\u001b[0m \u001b[0mrow\u001b[0m\u001b[1;33m,\u001b[0m \u001b[0mcol\u001b[0m\u001b[1;33m,\u001b[0m \u001b[0msecondary_y\u001b[0m\u001b[1;33m,\u001b[0m \u001b[0mexclude_empty_subplots\u001b[0m\u001b[1;33m\u001b[0m\u001b[1;33m\u001b[0m\u001b[0m\n\u001b[0m\u001b[0;32m    902\u001b[0m         )\n\u001b[0;32m    903\u001b[0m \u001b[1;33m\u001b[0m\u001b[0m\n",
      "\u001b[1;32mc:\\Users\\hasee\\miniconda3\\envs\\AI3\\lib\\site-packages\\plotly\\basedatatypes.py\u001b[0m in \u001b[0;36madd_trace\u001b[1;34m(self, trace, row, col, secondary_y, exclude_empty_subplots)\u001b[0m\n\u001b[0;32m   2109\u001b[0m             \u001b[0mcols\u001b[0m\u001b[1;33m=\u001b[0m\u001b[1;33m[\u001b[0m\u001b[0mcol\u001b[0m\u001b[1;33m]\u001b[0m \u001b[1;32mif\u001b[0m \u001b[0mcol\u001b[0m \u001b[1;32mis\u001b[0m \u001b[1;32mnot\u001b[0m \u001b[1;32mNone\u001b[0m \u001b[1;32melse\u001b[0m \u001b[1;32mNone\u001b[0m\u001b[1;33m,\u001b[0m\u001b[1;33m\u001b[0m\u001b[1;33m\u001b[0m\u001b[0m\n\u001b[0;32m   2110\u001b[0m             \u001b[0msecondary_ys\u001b[0m\u001b[1;33m=\u001b[0m\u001b[1;33m[\u001b[0m\u001b[0msecondary_y\u001b[0m\u001b[1;33m]\u001b[0m \u001b[1;32mif\u001b[0m \u001b[0msecondary_y\u001b[0m \u001b[1;32mis\u001b[0m \u001b[1;32mnot\u001b[0m \u001b[1;32mNone\u001b[0m \u001b[1;32melse\u001b[0m \u001b[1;32mNone\u001b[0m\u001b[1;33m,\u001b[0m\u001b[1;33m\u001b[0m\u001b[1;33m\u001b[0m\u001b[0m\n\u001b[1;32m-> 2111\u001b[1;33m             \u001b[0mexclude_empty_subplots\u001b[0m\u001b[1;33m=\u001b[0m\u001b[0mexclude_empty_subplots\u001b[0m\u001b[1;33m,\u001b[0m\u001b[1;33m\u001b[0m\u001b[1;33m\u001b[0m\u001b[0m\n\u001b[0m\u001b[0;32m   2112\u001b[0m         )\n\u001b[0;32m   2113\u001b[0m \u001b[1;33m\u001b[0m\u001b[0m\n",
      "\u001b[1;32mc:\\Users\\hasee\\miniconda3\\envs\\AI3\\lib\\site-packages\\plotly\\graph_objs\\_figure.py\u001b[0m in \u001b[0;36madd_traces\u001b[1;34m(self, data, rows, cols, secondary_ys, exclude_empty_subplots)\u001b[0m\n\u001b[0;32m    979\u001b[0m         \"\"\"\n\u001b[0;32m    980\u001b[0m         return super(Figure, self).add_traces(\n\u001b[1;32m--> 981\u001b[1;33m             \u001b[0mdata\u001b[0m\u001b[1;33m,\u001b[0m \u001b[0mrows\u001b[0m\u001b[1;33m,\u001b[0m \u001b[0mcols\u001b[0m\u001b[1;33m,\u001b[0m \u001b[0msecondary_ys\u001b[0m\u001b[1;33m,\u001b[0m \u001b[0mexclude_empty_subplots\u001b[0m\u001b[1;33m\u001b[0m\u001b[1;33m\u001b[0m\u001b[0m\n\u001b[0m\u001b[0;32m    982\u001b[0m         )\n\u001b[0;32m    983\u001b[0m \u001b[1;33m\u001b[0m\u001b[0m\n",
      "\u001b[1;32mc:\\Users\\hasee\\miniconda3\\envs\\AI3\\lib\\site-packages\\plotly\\basedatatypes.py\u001b[0m in \u001b[0;36madd_traces\u001b[1;34m(self, data, rows, cols, secondary_ys, exclude_empty_subplots)\u001b[0m\n\u001b[0;32m   2258\u001b[0m         \u001b[0mself\u001b[0m\u001b[1;33m.\u001b[0m\u001b[0m_data\u001b[0m\u001b[1;33m.\u001b[0m\u001b[0mextend\u001b[0m\u001b[1;33m(\u001b[0m\u001b[0mnew_traces_data\u001b[0m\u001b[1;33m)\u001b[0m\u001b[1;33m\u001b[0m\u001b[1;33m\u001b[0m\u001b[0m\n\u001b[0;32m   2259\u001b[0m         \u001b[0mself\u001b[0m\u001b[1;33m.\u001b[0m\u001b[0m_data_defaults\u001b[0m \u001b[1;33m=\u001b[0m \u001b[0mself\u001b[0m\u001b[1;33m.\u001b[0m\u001b[0m_data_defaults\u001b[0m \u001b[1;33m+\u001b[0m \u001b[1;33m[\u001b[0m\u001b[1;33m{\u001b[0m\u001b[1;33m}\u001b[0m \u001b[1;32mfor\u001b[0m \u001b[0m_\u001b[0m \u001b[1;32min\u001b[0m \u001b[0mdata\u001b[0m\u001b[1;33m]\u001b[0m\u001b[1;33m\u001b[0m\u001b[1;33m\u001b[0m\u001b[0m\n\u001b[1;32m-> 2260\u001b[1;33m         \u001b[0mself\u001b[0m\u001b[1;33m.\u001b[0m\u001b[0m_data_objs\u001b[0m \u001b[1;33m=\u001b[0m \u001b[0mself\u001b[0m\u001b[1;33m.\u001b[0m\u001b[0m_data_objs\u001b[0m \u001b[1;33m+\u001b[0m \u001b[0mdata\u001b[0m\u001b[1;33m\u001b[0m\u001b[1;33m\u001b[0m\u001b[0m\n\u001b[0m\u001b[0;32m   2261\u001b[0m \u001b[1;33m\u001b[0m\u001b[0m\n\u001b[0;32m   2262\u001b[0m         \u001b[1;31m# Update messages\u001b[0m\u001b[1;33m\u001b[0m\u001b[1;33m\u001b[0m\u001b[1;33m\u001b[0m\u001b[0m\n",
      "\u001b[1;31mKeyboardInterrupt\u001b[0m: "
     ]
    }
   ],
   "source": [
    "# Step 3: Prepare data for Plotly\n",
    "# Scatter points for airports\n",
    "airport_latitudes = [node[\"latitude\"] for node in nodes.values()]\n",
    "airport_longitudes = [node[\"longitude\"] for node in nodes.values()]\n",
    "airport_names = [f\"{node['name']} ({node['city']}, {node['country']})\" for node in nodes.values()]\n",
    "\n",
    "# Lines for routes\n",
    "flight_paths = []\n",
    "for edge in edges:\n",
    "    flight_paths.append(\n",
    "        go.Scattergeo(\n",
    "            locationmode=\"ISO-3\",\n",
    "            lon=[edge[\"source\"][\"longitude\"], edge[\"destination\"][\"longitude\"]],\n",
    "            lat=[edge[\"source\"][\"latitude\"], edge[\"destination\"][\"latitude\"]],\n",
    "            mode=\"lines\",\n",
    "            line=dict(width=0.5, color=\"blue\"),\n",
    "            hoverinfo=\"none\"\n",
    "        )\n",
    "    )\n",
    "\n",
    "# Step 4: Create the Plotly Figure\n",
    "fig = go.Figure()\n",
    "\n",
    "# Add airport nodes\n",
    "fig.add_trace(\n",
    "    go.Scattergeo(\n",
    "        lon=airport_longitudes,\n",
    "        lat=airport_latitudes,\n",
    "        mode=\"markers\",\n",
    "        marker=dict(\n",
    "            size=5,\n",
    "            color=\"red\",\n",
    "            symbol=\"circle\"\n",
    "        ),\n",
    "        text=airport_names,  # Tooltip text\n",
    "        hoverinfo=\"text\"\n",
    "    )\n",
    ")\n",
    "\n",
    "# Add route edges\n",
    "for flight_path in flight_paths:\n",
    "    fig.add_trace(flight_path)\n",
    "\n",
    "# Layout configuration\n",
    "fig.update_layout(\n",
    "    title_text=\"Airports and Direct Routes\",\n",
    "    showlegend=False,\n",
    "    geo=dict(\n",
    "        projection_type=\"equirectangular\",\n",
    "        showland=True,\n",
    "        landcolor=\"rgb(243, 243, 243)\",\n",
    "        countrycolor=\"rgb(204, 204, 204)\"\n",
    "    )\n",
    ")\n",
    "\n",
    "# Show the plot\n",
    "fig.show()"
   ]
  },
  {
   "cell_type": "code",
   "execution_count": 11,
   "metadata": {},
   "outputs": [
    {
     "name": "stdout",
     "output_type": "stream",
     "text": [
      "Airport: Amsterdam Airport Schiphol, Degree] Centrality: 0.022756469076894843\n",
      "Airport: Frankfurt am Main Airport, Degree] Centrality: 0.022389429253073957\n",
      "Airport: Charles de Gaulle International Airport, Degree] Centrality: 0.022022389429253074\n",
      "Airport: Atatürk International Airport, Degree] Centrality: 0.021380069737566527\n",
      "Airport: Hartsfield Jackson Atlanta International Airport, Degree] Centrality: 0.019911910442282986\n",
      "Airport: Chicago O'Hare International Airport, Degree] Centrality: 0.018902550926775553\n",
      "Airport: Beijing Capital International Airport, Degree] Centrality: 0.018810790970820335\n",
      "Airport: Munich Airport, Degree] Centrality: 0.01761791154340246\n",
      "Airport: Domodedovo International Airport, Degree] Centrality: 0.017250871719581572\n",
      "Airport: Dallas Fort Worth International Airport, Degree] Centrality: 0.017250871719581572\n"
     ]
    }
   ],
   "source": [
    "import networkx as nx\n",
    "\n",
    "# Create an empty graph\n",
    "G = nx.Graph()\n",
    "\n",
    "# Add nodes (airports) to the graph\n",
    "for airport_id, attributes in nodes.items():\n",
    "    G.add_node(airport_id, **attributes)\n",
    "\n",
    "# Add edges (routes) to the graph\n",
    "for edge in edges:\n",
    "    source = edge['source']['name']\n",
    "    destination = edge['destination']['name']\n",
    "    G.add_edge(source, destination, airline=edge['airline'])\n",
    "\n",
    "# Compute degree centrality\n",
    "degree_centrality = nx.degree_centrality(G)\n",
    "\n",
    "# Sort by degree centrality\n",
    "sorted_degree = sorted(degree_centrality.items(), key=lambda x: x[1], reverse=True)\n",
    "\n",
    "# Print top 10 hubs\n",
    "for airport_name, centrality in sorted_degree[:10]:\n",
    "    print(f\"Airport: {airport_name}, Degree] Centrality: {centrality}\")"
   ]
  },
  {
   "cell_type": "code",
   "execution_count": 15,
   "metadata": {},
   "outputs": [
    {
     "data": {
      "application/vnd.plotly.v1+json": {
       "config": {
        "plotlyServerURL": "https://plot.ly"
       },
       "data": [
        {
         "geo": "geo",
         "hovertemplate": "<b>%{hovertext}</b><br><br>centrality=%{marker.size}<br>latitude=%{lat}<br>longitude=%{lon}<extra></extra>",
         "hovertext": [
          "Amsterdam",
          "Frankfurt",
          "Paris",
          "Istanbul",
          "Atlanta",
          "Chicago",
          "Beijing",
          "Munich",
          "Moscow",
          "Dallas-Fort Worth"
         ],
         "lat": [
          52.308601,
          50.033333,
          49.012798,
          40.976898,
          33.6367,
          41.9786,
          40.080101013183594,
          48.353802,
          55.40879821777344,
          32.896801
         ],
         "legendgroup": "",
         "lon": [
          4.76389,
          8.570556,
          2.55,
          28.8146,
          -84.428101,
          -87.9048,
          116.58499908447266,
          11.7861,
          37.90629959106445,
          -97.038002
         ],
         "marker": {
          "color": "#636efa",
          "size": [
           0.022756469076894843,
           0.022389429253073957,
           0.022022389429253074,
           0.021380069737566527,
           0.019911910442282986,
           0.018902550926775553,
           0.018810790970820335,
           0.01761791154340246,
           0.017250871719581572,
           0.017250871719581572
          ],
          "sizemode": "area",
          "sizeref": 0.000056891172692237105,
          "symbol": "circle"
         },
         "mode": "markers",
         "name": "",
         "showlegend": false,
         "type": "scattergeo"
        }
       ],
       "layout": {
        "geo": {
         "center": {},
         "domain": {
          "x": [
           0,
           1
          ],
          "y": [
           0,
           1
          ]
         },
         "landcolor": "lightgray",
         "projection": {
          "type": "natural earth"
         },
         "showland": true
        },
        "legend": {
         "itemsizing": "constant",
         "tracegroupgap": 0
        },
        "template": {
         "data": {
          "bar": [
           {
            "error_x": {
             "color": "#2a3f5f"
            },
            "error_y": {
             "color": "#2a3f5f"
            },
            "marker": {
             "line": {
              "color": "#E5ECF6",
              "width": 0.5
             },
             "pattern": {
              "fillmode": "overlay",
              "size": 10,
              "solidity": 0.2
             }
            },
            "type": "bar"
           }
          ],
          "barpolar": [
           {
            "marker": {
             "line": {
              "color": "#E5ECF6",
              "width": 0.5
             },
             "pattern": {
              "fillmode": "overlay",
              "size": 10,
              "solidity": 0.2
             }
            },
            "type": "barpolar"
           }
          ],
          "carpet": [
           {
            "aaxis": {
             "endlinecolor": "#2a3f5f",
             "gridcolor": "white",
             "linecolor": "white",
             "minorgridcolor": "white",
             "startlinecolor": "#2a3f5f"
            },
            "baxis": {
             "endlinecolor": "#2a3f5f",
             "gridcolor": "white",
             "linecolor": "white",
             "minorgridcolor": "white",
             "startlinecolor": "#2a3f5f"
            },
            "type": "carpet"
           }
          ],
          "choropleth": [
           {
            "colorbar": {
             "outlinewidth": 0,
             "ticks": ""
            },
            "type": "choropleth"
           }
          ],
          "contour": [
           {
            "colorbar": {
             "outlinewidth": 0,
             "ticks": ""
            },
            "colorscale": [
             [
              0,
              "#0d0887"
             ],
             [
              0.1111111111111111,
              "#46039f"
             ],
             [
              0.2222222222222222,
              "#7201a8"
             ],
             [
              0.3333333333333333,
              "#9c179e"
             ],
             [
              0.4444444444444444,
              "#bd3786"
             ],
             [
              0.5555555555555556,
              "#d8576b"
             ],
             [
              0.6666666666666666,
              "#ed7953"
             ],
             [
              0.7777777777777778,
              "#fb9f3a"
             ],
             [
              0.8888888888888888,
              "#fdca26"
             ],
             [
              1,
              "#f0f921"
             ]
            ],
            "type": "contour"
           }
          ],
          "contourcarpet": [
           {
            "colorbar": {
             "outlinewidth": 0,
             "ticks": ""
            },
            "type": "contourcarpet"
           }
          ],
          "heatmap": [
           {
            "colorbar": {
             "outlinewidth": 0,
             "ticks": ""
            },
            "colorscale": [
             [
              0,
              "#0d0887"
             ],
             [
              0.1111111111111111,
              "#46039f"
             ],
             [
              0.2222222222222222,
              "#7201a8"
             ],
             [
              0.3333333333333333,
              "#9c179e"
             ],
             [
              0.4444444444444444,
              "#bd3786"
             ],
             [
              0.5555555555555556,
              "#d8576b"
             ],
             [
              0.6666666666666666,
              "#ed7953"
             ],
             [
              0.7777777777777778,
              "#fb9f3a"
             ],
             [
              0.8888888888888888,
              "#fdca26"
             ],
             [
              1,
              "#f0f921"
             ]
            ],
            "type": "heatmap"
           }
          ],
          "heatmapgl": [
           {
            "colorbar": {
             "outlinewidth": 0,
             "ticks": ""
            },
            "colorscale": [
             [
              0,
              "#0d0887"
             ],
             [
              0.1111111111111111,
              "#46039f"
             ],
             [
              0.2222222222222222,
              "#7201a8"
             ],
             [
              0.3333333333333333,
              "#9c179e"
             ],
             [
              0.4444444444444444,
              "#bd3786"
             ],
             [
              0.5555555555555556,
              "#d8576b"
             ],
             [
              0.6666666666666666,
              "#ed7953"
             ],
             [
              0.7777777777777778,
              "#fb9f3a"
             ],
             [
              0.8888888888888888,
              "#fdca26"
             ],
             [
              1,
              "#f0f921"
             ]
            ],
            "type": "heatmapgl"
           }
          ],
          "histogram": [
           {
            "marker": {
             "pattern": {
              "fillmode": "overlay",
              "size": 10,
              "solidity": 0.2
             }
            },
            "type": "histogram"
           }
          ],
          "histogram2d": [
           {
            "colorbar": {
             "outlinewidth": 0,
             "ticks": ""
            },
            "colorscale": [
             [
              0,
              "#0d0887"
             ],
             [
              0.1111111111111111,
              "#46039f"
             ],
             [
              0.2222222222222222,
              "#7201a8"
             ],
             [
              0.3333333333333333,
              "#9c179e"
             ],
             [
              0.4444444444444444,
              "#bd3786"
             ],
             [
              0.5555555555555556,
              "#d8576b"
             ],
             [
              0.6666666666666666,
              "#ed7953"
             ],
             [
              0.7777777777777778,
              "#fb9f3a"
             ],
             [
              0.8888888888888888,
              "#fdca26"
             ],
             [
              1,
              "#f0f921"
             ]
            ],
            "type": "histogram2d"
           }
          ],
          "histogram2dcontour": [
           {
            "colorbar": {
             "outlinewidth": 0,
             "ticks": ""
            },
            "colorscale": [
             [
              0,
              "#0d0887"
             ],
             [
              0.1111111111111111,
              "#46039f"
             ],
             [
              0.2222222222222222,
              "#7201a8"
             ],
             [
              0.3333333333333333,
              "#9c179e"
             ],
             [
              0.4444444444444444,
              "#bd3786"
             ],
             [
              0.5555555555555556,
              "#d8576b"
             ],
             [
              0.6666666666666666,
              "#ed7953"
             ],
             [
              0.7777777777777778,
              "#fb9f3a"
             ],
             [
              0.8888888888888888,
              "#fdca26"
             ],
             [
              1,
              "#f0f921"
             ]
            ],
            "type": "histogram2dcontour"
           }
          ],
          "mesh3d": [
           {
            "colorbar": {
             "outlinewidth": 0,
             "ticks": ""
            },
            "type": "mesh3d"
           }
          ],
          "parcoords": [
           {
            "line": {
             "colorbar": {
              "outlinewidth": 0,
              "ticks": ""
             }
            },
            "type": "parcoords"
           }
          ],
          "pie": [
           {
            "automargin": true,
            "type": "pie"
           }
          ],
          "scatter": [
           {
            "fillpattern": {
             "fillmode": "overlay",
             "size": 10,
             "solidity": 0.2
            },
            "type": "scatter"
           }
          ],
          "scatter3d": [
           {
            "line": {
             "colorbar": {
              "outlinewidth": 0,
              "ticks": ""
             }
            },
            "marker": {
             "colorbar": {
              "outlinewidth": 0,
              "ticks": ""
             }
            },
            "type": "scatter3d"
           }
          ],
          "scattercarpet": [
           {
            "marker": {
             "colorbar": {
              "outlinewidth": 0,
              "ticks": ""
             }
            },
            "type": "scattercarpet"
           }
          ],
          "scattergeo": [
           {
            "marker": {
             "colorbar": {
              "outlinewidth": 0,
              "ticks": ""
             }
            },
            "type": "scattergeo"
           }
          ],
          "scattergl": [
           {
            "marker": {
             "colorbar": {
              "outlinewidth": 0,
              "ticks": ""
             }
            },
            "type": "scattergl"
           }
          ],
          "scattermapbox": [
           {
            "marker": {
             "colorbar": {
              "outlinewidth": 0,
              "ticks": ""
             }
            },
            "type": "scattermapbox"
           }
          ],
          "scatterpolar": [
           {
            "marker": {
             "colorbar": {
              "outlinewidth": 0,
              "ticks": ""
             }
            },
            "type": "scatterpolar"
           }
          ],
          "scatterpolargl": [
           {
            "marker": {
             "colorbar": {
              "outlinewidth": 0,
              "ticks": ""
             }
            },
            "type": "scatterpolargl"
           }
          ],
          "scatterternary": [
           {
            "marker": {
             "colorbar": {
              "outlinewidth": 0,
              "ticks": ""
             }
            },
            "type": "scatterternary"
           }
          ],
          "surface": [
           {
            "colorbar": {
             "outlinewidth": 0,
             "ticks": ""
            },
            "colorscale": [
             [
              0,
              "#0d0887"
             ],
             [
              0.1111111111111111,
              "#46039f"
             ],
             [
              0.2222222222222222,
              "#7201a8"
             ],
             [
              0.3333333333333333,
              "#9c179e"
             ],
             [
              0.4444444444444444,
              "#bd3786"
             ],
             [
              0.5555555555555556,
              "#d8576b"
             ],
             [
              0.6666666666666666,
              "#ed7953"
             ],
             [
              0.7777777777777778,
              "#fb9f3a"
             ],
             [
              0.8888888888888888,
              "#fdca26"
             ],
             [
              1,
              "#f0f921"
             ]
            ],
            "type": "surface"
           }
          ],
          "table": [
           {
            "cells": {
             "fill": {
              "color": "#EBF0F8"
             },
             "line": {
              "color": "white"
             }
            },
            "header": {
             "fill": {
              "color": "#C8D4E3"
             },
             "line": {
              "color": "white"
             }
            },
            "type": "table"
           }
          ]
         },
         "layout": {
          "annotationdefaults": {
           "arrowcolor": "#2a3f5f",
           "arrowhead": 0,
           "arrowwidth": 1
          },
          "autotypenumbers": "strict",
          "coloraxis": {
           "colorbar": {
            "outlinewidth": 0,
            "ticks": ""
           }
          },
          "colorscale": {
           "diverging": [
            [
             0,
             "#8e0152"
            ],
            [
             0.1,
             "#c51b7d"
            ],
            [
             0.2,
             "#de77ae"
            ],
            [
             0.3,
             "#f1b6da"
            ],
            [
             0.4,
             "#fde0ef"
            ],
            [
             0.5,
             "#f7f7f7"
            ],
            [
             0.6,
             "#e6f5d0"
            ],
            [
             0.7,
             "#b8e186"
            ],
            [
             0.8,
             "#7fbc41"
            ],
            [
             0.9,
             "#4d9221"
            ],
            [
             1,
             "#276419"
            ]
           ],
           "sequential": [
            [
             0,
             "#0d0887"
            ],
            [
             0.1111111111111111,
             "#46039f"
            ],
            [
             0.2222222222222222,
             "#7201a8"
            ],
            [
             0.3333333333333333,
             "#9c179e"
            ],
            [
             0.4444444444444444,
             "#bd3786"
            ],
            [
             0.5555555555555556,
             "#d8576b"
            ],
            [
             0.6666666666666666,
             "#ed7953"
            ],
            [
             0.7777777777777778,
             "#fb9f3a"
            ],
            [
             0.8888888888888888,
             "#fdca26"
            ],
            [
             1,
             "#f0f921"
            ]
           ],
           "sequentialminus": [
            [
             0,
             "#0d0887"
            ],
            [
             0.1111111111111111,
             "#46039f"
            ],
            [
             0.2222222222222222,
             "#7201a8"
            ],
            [
             0.3333333333333333,
             "#9c179e"
            ],
            [
             0.4444444444444444,
             "#bd3786"
            ],
            [
             0.5555555555555556,
             "#d8576b"
            ],
            [
             0.6666666666666666,
             "#ed7953"
            ],
            [
             0.7777777777777778,
             "#fb9f3a"
            ],
            [
             0.8888888888888888,
             "#fdca26"
            ],
            [
             1,
             "#f0f921"
            ]
           ]
          },
          "colorway": [
           "#636efa",
           "#EF553B",
           "#00cc96",
           "#ab63fa",
           "#FFA15A",
           "#19d3f3",
           "#FF6692",
           "#B6E880",
           "#FF97FF",
           "#FECB52"
          ],
          "font": {
           "color": "#2a3f5f"
          },
          "geo": {
           "bgcolor": "white",
           "lakecolor": "white",
           "landcolor": "#E5ECF6",
           "showlakes": true,
           "showland": true,
           "subunitcolor": "white"
          },
          "hoverlabel": {
           "align": "left"
          },
          "hovermode": "closest",
          "mapbox": {
           "style": "light"
          },
          "paper_bgcolor": "white",
          "plot_bgcolor": "#E5ECF6",
          "polar": {
           "angularaxis": {
            "gridcolor": "white",
            "linecolor": "white",
            "ticks": ""
           },
           "bgcolor": "#E5ECF6",
           "radialaxis": {
            "gridcolor": "white",
            "linecolor": "white",
            "ticks": ""
           }
          },
          "scene": {
           "xaxis": {
            "backgroundcolor": "#E5ECF6",
            "gridcolor": "white",
            "gridwidth": 2,
            "linecolor": "white",
            "showbackground": true,
            "ticks": "",
            "zerolinecolor": "white"
           },
           "yaxis": {
            "backgroundcolor": "#E5ECF6",
            "gridcolor": "white",
            "gridwidth": 2,
            "linecolor": "white",
            "showbackground": true,
            "ticks": "",
            "zerolinecolor": "white"
           },
           "zaxis": {
            "backgroundcolor": "#E5ECF6",
            "gridcolor": "white",
            "gridwidth": 2,
            "linecolor": "white",
            "showbackground": true,
            "ticks": "",
            "zerolinecolor": "white"
           }
          },
          "shapedefaults": {
           "line": {
            "color": "#2a3f5f"
           }
          },
          "ternary": {
           "aaxis": {
            "gridcolor": "white",
            "linecolor": "white",
            "ticks": ""
           },
           "baxis": {
            "gridcolor": "white",
            "linecolor": "white",
            "ticks": ""
           },
           "bgcolor": "#E5ECF6",
           "caxis": {
            "gridcolor": "white",
            "linecolor": "white",
            "ticks": ""
           }
          },
          "title": {
           "x": 0.05
          },
          "xaxis": {
           "automargin": true,
           "gridcolor": "white",
           "linecolor": "white",
           "ticks": "",
           "title": {
            "standoff": 15
           },
           "zerolinecolor": "white",
           "zerolinewidth": 2
          },
          "yaxis": {
           "automargin": true,
           "gridcolor": "white",
           "linecolor": "white",
           "ticks": "",
           "title": {
            "standoff": 15
           },
           "zerolinecolor": "white",
           "zerolinewidth": 2
          }
         }
        },
        "title": {
         "text": "Top 10 Airports by Centrality"
        }
       }
      }
     },
     "metadata": {},
     "output_type": "display_data"
    }
   ],
   "source": [
    "import plotly.express as px\n",
    "import pandas as pd\n",
    "\n",
    "# Extract airport data for top 10\n",
    "top_airports = []\n",
    "for airport_name, centrality in sorted_degree[:10]:\n",
    "    for edge in edges:\n",
    "        if edge['source']['name'] == airport_name:\n",
    "            top_airports.append({\n",
    "                'name': airport_name,\n",
    "                'city': edge['source']['city'],\n",
    "                'country': edge['source']['country'],\n",
    "                'latitude': edge['source']['latitude'],\n",
    "                'longitude': edge['source']['longitude'],\n",
    "                'centrality': centrality\n",
    "            })\n",
    "            break\n",
    "\n",
    "# Convert to DataFrame\n",
    "df_top_airports = pd.DataFrame(top_airports)\n",
    "\n",
    "# Plotting the map\n",
    "fig = px.scatter_geo(\n",
    "    df_top_airports,\n",
    "    lat='latitude',\n",
    "    lon='longitude',\n",
    "    #text='name',\n",
    "    hover_name='city',\n",
    "    size='centrality',\n",
    "    projection='natural earth',\n",
    "    title='Top 10 Airports by Centrality'\n",
    ")\n",
    "\n",
    "fig.update_layout(geo=dict(showland=True, landcolor=\"lightgray\"))\n",
    "\n",
    "fig.show()"
   ]
  },
  {
   "cell_type": "code",
   "execution_count": null,
   "metadata": {},
   "outputs": [],
   "source": [
    "# Compute betweenness centrality\n",
    "betweenness_centrality = nx.betweenness_centrality(G)\n",
    "\n",
    "# Sort by betweenness centrality\n",
    "sorted_betweenness = sorted(betweenness_centrality.items(), key=lambda x: x[1], reverse=True)\n",
    "\n",
    "# Print top 10 airports by betweenness centrality\n",
    "for airport_name, centrality in sorted_betweenness[:10]:\n",
    "    print(f\"Airport: {airport_name}, Betweenness Centrality: {centrality}\")"
   ]
  },
  {
   "cell_type": "code",
   "execution_count": 16,
   "metadata": {},
   "outputs": [
    {
     "ename": "NameError",
     "evalue": "name 'sorted_betweenness' is not defined",
     "output_type": "error",
     "traceback": [
      "\u001b[1;31m---------------------------------------------------------------------------\u001b[0m",
      "\u001b[1;31mNameError\u001b[0m                                 Traceback (most recent call last)",
      "\u001b[1;32m<ipython-input-16-1ebc19d8b99f>\u001b[0m in \u001b[0;36m<module>\u001b[1;34m\u001b[0m\n\u001b[0;32m      1\u001b[0m \u001b[1;31m# Extract airport data for top 10\u001b[0m\u001b[1;33m\u001b[0m\u001b[1;33m\u001b[0m\u001b[1;33m\u001b[0m\u001b[0m\n\u001b[0;32m      2\u001b[0m \u001b[0mtop_airports\u001b[0m \u001b[1;33m=\u001b[0m \u001b[1;33m[\u001b[0m\u001b[1;33m]\u001b[0m\u001b[1;33m\u001b[0m\u001b[1;33m\u001b[0m\u001b[0m\n\u001b[1;32m----> 3\u001b[1;33m \u001b[1;32mfor\u001b[0m \u001b[0mairport_name\u001b[0m\u001b[1;33m,\u001b[0m \u001b[0mcentrality\u001b[0m \u001b[1;32min\u001b[0m \u001b[0msorted_betweenness\u001b[0m\u001b[1;33m[\u001b[0m\u001b[1;33m:\u001b[0m\u001b[1;36m10\u001b[0m\u001b[1;33m]\u001b[0m\u001b[1;33m:\u001b[0m\u001b[1;33m\u001b[0m\u001b[1;33m\u001b[0m\u001b[0m\n\u001b[0m\u001b[0;32m      4\u001b[0m     \u001b[1;32mfor\u001b[0m \u001b[0medge\u001b[0m \u001b[1;32min\u001b[0m \u001b[0medges\u001b[0m\u001b[1;33m:\u001b[0m\u001b[1;33m\u001b[0m\u001b[1;33m\u001b[0m\u001b[0m\n\u001b[0;32m      5\u001b[0m         \u001b[1;32mif\u001b[0m \u001b[0medge\u001b[0m\u001b[1;33m[\u001b[0m\u001b[1;34m'source'\u001b[0m\u001b[1;33m]\u001b[0m\u001b[1;33m[\u001b[0m\u001b[1;34m'name'\u001b[0m\u001b[1;33m]\u001b[0m \u001b[1;33m==\u001b[0m \u001b[0mairport_name\u001b[0m\u001b[1;33m:\u001b[0m\u001b[1;33m\u001b[0m\u001b[1;33m\u001b[0m\u001b[0m\n",
      "\u001b[1;31mNameError\u001b[0m: name 'sorted_betweenness' is not defined"
     ]
    }
   ],
   "source": [
    "# Extract airport data for top 10\n",
    "top_airports = []\n",
    "for airport_name, centrality in sorted_betweenness[:10]:\n",
    "    for edge in edges:\n",
    "        if edge['source']['name'] == airport_name:\n",
    "            top_airports.append({\n",
    "                'name': airport_name,\n",
    "                'city': edge['source']['city'],\n",
    "                'country': edge['source']['country'],\n",
    "                'latitude': edge['source']['latitude'],\n",
    "                'longitude': edge['source']['longitude'],\n",
    "                'centrality': centrality\n",
    "            })\n",
    "            break\n",
    "\n",
    "# Convert to DataFrame\n",
    "df_top_airports = pd.DataFrame(top_airports)\n",
    "\n",
    "# Plotting the map\n",
    "fig = px.scatter_geo(\n",
    "    df_top_airports,\n",
    "    lat='latitude',\n",
    "    lon='longitude',\n",
    "    #text='name',\n",
    "    hover_name='city',\n",
    "    size='centrality',\n",
    "    projection='natural earth',\n",
    "    title='Top 10 Airports by Betweenness Centrality'\n",
    ")\n",
    "\n",
    "fig.update_layout(geo=dict(showland=True, landcolor=\"lightgray\"))\n",
    "\n",
    "fig.show()"
   ]
  },
  {
   "cell_type": "code",
   "execution_count": 32,
   "metadata": {},
   "outputs": [
    {
     "name": "stdout",
     "output_type": "stream",
     "text": [
      "Airport: Amsterdam Airport Schiphol, Eigenvector Centrality: 0.16787862313775015\n",
      "Airport: Frankfurt am Main Airport, Eigenvector Centrality: 0.16639360556512212\n",
      "Airport: Charles de Gaulle International Airport, Eigenvector Centrality: 0.15946867299421438\n",
      "Airport: Munich Airport, Eigenvector Centrality: 0.14850125294474087\n",
      "Airport: Leonardo da Vinci–Fiumicino Airport, Eigenvector Centrality: 0.13632593305180626\n",
      "Airport: London Heathrow Airport, Eigenvector Centrality: 0.13597213697411975\n",
      "Airport: Atatürk International Airport, Eigenvector Centrality: 0.12912841296227298\n",
      "Airport: Barcelona International Airport, Eigenvector Centrality: 0.12809384878220356\n",
      "Airport: Zürich Airport, Eigenvector Centrality: 0.12599349543893415\n",
      "Airport: Adolfo Suárez Madrid–Barajas Airport, Eigenvector Centrality: 0.12296163375221078\n"
     ]
    }
   ],
   "source": [
    "# Compute eigenvector centrality\n",
    "eigenvector_centrality = nx.eigenvector_centrality(G)\n",
    "\n",
    "# Sort by eigenvector centrality\n",
    "sorted_eigenvector = sorted(eigenvector_centrality.items(), key=lambda x: x[1], reverse=True)\n",
    "\n",
    "# Print top 10 airports by eigenvector centrality\n",
    "for airport_name, centrality in sorted_eigenvector[:10]:\n",
    "    print(f\"Airport: {airport_name}, Eigenvector Centrality: {centrality}\")"
   ]
  },
  {
   "cell_type": "code",
   "execution_count": null,
   "metadata": {},
   "outputs": [],
   "source": [
    "# Extract airport data for top 10\n",
    "top_airports = []\n",
    "for airport_name, centrality in sorted_eigenvector[:10]:\n",
    "    for edge in edges:\n",
    "        if edge['source']['name'] == airport_name:\n",
    "            top_airports.append({\n",
    "                'name': airport_name,\n",
    "                'city': edge['source']['city'],\n",
    "                'country': edge['source']['country'],\n",
    "                'latitude': edge['source']['latitude'],\n",
    "                'longitude': edge['source']['longitude'],\n",
    "                'centrality': centrality\n",
    "            })\n",
    "            break\n",
    "\n",
    "# Convert to DataFrame\n",
    "df_top_airports = pd.DataFrame(top_airports)\n",
    "\n",
    "# Plotting the map\n",
    "fig = px.scatter_geo(\n",
    "    df_top_airports,\n",
    "    lat='latitude',\n",
    "    lon='longitude',\n",
    "    #text='name',\n",
    "    hover_name='city',\n",
    "    size='centrality',\n",
    "    projection='natural earth',\n",
    "    title='Top 10 Airports by sorted_eigenvector'\n",
    ")\n",
    "\n",
    "fig.update_layout(geo=dict(showland=True, landcolor=\"lightgray\"))\n",
    "\n",
    "fig.show()"
   ]
  }
 ],
 "metadata": {
  "kernelspec": {
   "display_name": "AI3",
   "language": "python",
   "name": "python3"
  },
  "language_info": {
   "codemirror_mode": {
    "name": "ipython",
    "version": 3
   },
   "file_extension": ".py",
   "mimetype": "text/x-python",
   "name": "python",
   "nbconvert_exporter": "python",
   "pygments_lexer": "ipython3",
   "version": "3.6.13"
  }
 },
 "nbformat": 4,
 "nbformat_minor": 2
}
